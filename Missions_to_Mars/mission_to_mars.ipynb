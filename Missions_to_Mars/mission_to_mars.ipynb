{
 "cells": [
  {
   "cell_type": "code",
   "execution_count": 6,
   "metadata": {},
   "outputs": [],
   "source": [
    "#-----------------------------\n",
    "# Colby Alexander Hoke\n",
    "# UNC Data Analytics Bootcamp\n",
    "# August, 2020\n",
    "#-----------------------------"
   ]
  },
  {
   "cell_type": "code",
   "execution_count": 7,
   "metadata": {},
   "outputs": [],
   "source": [
    "# Setup\n",
    "from splinter import Browser\n",
    "from splinter.exceptions import ElementDoesNotExist\n",
    "from bs4 import BeautifulSoup\n",
    "import pandas as pd\n",
    "import time"
   ]
  },
  {
   "cell_type": "code",
   "execution_count": 8,
   "metadata": {},
   "outputs": [],
   "source": [
    "# Mac path for chromedriver\n",
    "executable_path = {'executable_path': '/usr/local/bin/chromedriver'}\n",
    "\n",
    "# Windows path (uncomment and comment above to use)\n",
    "#executable_path = {\"executable_path\": \"chromedriver.exe\"}\n",
    "\n",
    "browser = Browser('chrome', **executable_path, headless=False)"
   ]
  },
  {
   "cell_type": "code",
   "execution_count": 9,
   "metadata": {
    "tags": []
   },
   "outputs": [],
   "source": [
    "# Scrape the NASA Mars News Site:\n",
    "# https://mars.nasa.gov/news\n",
    "\n",
    "# Collect the latest News Title and Paragraph Text.\n",
    "# Assign the text to variables.\n",
    "\n",
    "nasa_news_url = 'https://mars.nasa.gov/news/'\n",
    "browser.visit(nasa_news_url)\n",
    "\n",
    "time.sleep(1)\n",
    "\n",
    "html = browser.html\n",
    "soup = BeautifulSoup(html, 'html.parser')\n",
    "\n",
    "# Find the container of what we need\n",
    "article = soup.find('div', class_='list_text')\n",
    "\n",
    "# Get the news title and the paragraph text\n",
    "news_title = article.find('a').text\n",
    "news_p = article.find('div', class_='article_teaser_body').text"
   ]
  },
  {
   "cell_type": "code",
   "execution_count": 10,
   "metadata": {
    "tags": []
   },
   "outputs": [
    {
     "name": "stdout",
     "output_type": "stream",
     "text": [
      "News title: NASA Engineers Checking InSight's Weather Sensors \n",
      "\n",
      "News Paragraph: An electronics issue is suspected to be preventing the sensors from sharing their data about Mars weather with the spacecraft.\n"
     ]
    }
   ],
   "source": [
    "# Prove we got it!\n",
    "print(f'News title: {news_title} \\n\\nNews Paragraph: {news_p}')"
   ]
  },
  {
   "cell_type": "markdown",
   "metadata": {},
   "source": [
    "## PL Mars Space Images - Featured Image"
   ]
  },
  {
   "cell_type": "code",
   "execution_count": null,
   "metadata": {
    "tags": []
   },
   "outputs": [],
   "source": [
    "# Scrape the JPL Featured Space Image\n",
    "# https://www.jpl.nasa.gov/spaceimages/?search=&category=Mars\n",
    "#\n",
    "# Find the image url for the current Featured Mars Image\n",
    "# Assign the url string to a variable called featured_image_url.\n",
    "#\n",
    "# Make sure to find the image url to the full size .jpg image.\n",
    "# Make sure to save a complete url string for this image.\n",
    "# \n",
    "# Example:\n",
    "# featured_image_url = 'https://www.jpl.nasa.gov/spaceimages/images/largesize/PIA16225_hires.jpg'\n",
    "\n",
    "space_img_url = 'https://www.jpl.nasa.gov/spaceimages/?search=&category=Mars'\n",
    "url_split = space_img_url.split('/spaceimages',1)\n",
    "\n",
    "browser.visit(space_img_url)\n",
    "\n",
    "time.sleep(1)\n",
    "\n",
    "html = browser.html\n",
    "soup = BeautifulSoup(html, 'html.parser')\n",
    "\n",
    "# Zero in on the button for the image\n",
    "img_link = soup.find('section', class_='main_feature').find('a', class_='button fancybox')['data-link']\n",
    "img_page_url = url_split[0] + img_link\n",
    "\n",
    "# Return the URL for the page that holds our image\n",
    "print(img_page_url)"
   ]
  },
  {
   "cell_type": "code",
   "execution_count": null,
   "metadata": {
    "tags": []
   },
   "outputs": [],
   "source": [
    "# Visit that new page and parse the HTML\n",
    "browser.visit(img_page_url)\n",
    "\n",
    "time.sleep(1)\n",
    "\n",
    "\n",
    "html = browser.html\n",
    "soup = BeautifulSoup(html, 'html.parser')\n",
    "\n",
    "# Pull the full res image URL\n",
    "img_details = soup.find('div', id='secondary_column').find_all('div', class_='download_tiff')\n",
    "hires_image_url = img_details[1].find('a')['href']\n",
    "\n",
    "# Append to the URL\n",
    "featured_image_url = 'https:' + hires_image_url\n",
    "\n",
    "# Return the URL\n",
    "print(featured_image_url)"
   ]
  },
  {
   "cell_type": "markdown",
   "metadata": {},
   "source": [
    "## Mars Facts\n",
    "\n",
    "\n",
    "Visit the Mars Facts webpage:\n",
    "https://space-facts.com/mars/\n",
    "    \n",
    "Use Pandas to scrape the table containing facts about the planet including Diameter, Mass, etc.\n",
    "\n",
    "\n",
    "Use Pandas to convert the data to a HTML table string."
   ]
  },
  {
   "cell_type": "code",
   "execution_count": null,
   "metadata": {
    "tags": []
   },
   "outputs": [],
   "source": [
    "# Set URL to pull from\n",
    "mars_facts_url = 'https://space-facts.com/mars/'\n",
    "\n",
    "# Read and store all of the tables\n",
    "tables = pd.read_html(mars_facts_url)\n",
    "\n",
    "# Get the table we want\n",
    "mars_df = tables[0]\n",
    "\n",
    "# Give columns names and reset the index\n",
    "mars_df.columns=['Paramater','Value']\n",
    "mars_df.set_index('Paramater', inplace=True)\n",
    "\n",
    "# Convert the table to HTML and strip the new line returns\n",
    "mars_html_table = mars_df.to_html()\n",
    "mars_html_table = mars_html_table.replace('\\n', '') \n",
    "\n",
    "# Return the HTML\n",
    "print(mars_html_table)"
   ]
  },
  {
   "cell_type": "markdown",
   "metadata": {},
   "source": [
    "## Mars Hemispheres\n",
    "\n",
    "\n",
    "Visit the USGS Astrogeology site:\n",
    "https://astrogeology.usgs.gov/search/results?q=hemisphere+enhanced&k1=target&v1=Marshere\n",
    "Obtain high resolution images for each of Mar's hemispheres.\n",
    "\n",
    "You will need to click each of the links to the hemispheres in order to find the image url to the full resolution image.\n",
    "\n",
    "Save both the image url string for the full resolution hemisphere image, and the Hemisphere title containing the hemisphere name. Use a Python dictionary to store the data using the keys img_url and title.\n",
    "\n",
    "Append the dictionary with the image url string and the hemisphere title to a list. This list will contain one dictionary for each hemisphere.\n",
    "\n",
    "Example:\n",
    "hemisphere_image_urls = [\n",
    "    {\"title\": \"Valles Marineris Hemisphere\", \"img_url\": \"...\"},\n",
    "    {\"title\": \"Cerberus Hemisphere\", \"img_url\": \"...\"},\n",
    "    {\"title\": \"Schiaparelli Hemisphere\", \"img_url\": \"...\"},\n",
    "    {\"title\": \"Syrtis Major Hemisphere\", \"img_url\": \"...\"},\n",
    "]"
   ]
  },
  {
   "cell_type": "code",
   "execution_count": null,
   "metadata": {},
   "outputs": [],
   "source": [
    "usgs_astro_url = 'https://astrogeology.usgs.gov/search/results?q=hemisphere+enhanced&k1=target&v1=Mars'\n",
    "\n",
    "# Split the URL to use later\n",
    "usgs_astro_url_split = usgs_astro_url.split('/search',1)\n",
    "\n",
    "# Visit the page\n",
    "browser.visit(usgs_astro_url)\n",
    "html = browser.html\n",
    "soup = BeautifulSoup(html, 'html.parser')"
   ]
  },
  {
   "cell_type": "code",
   "execution_count": null,
   "metadata": {},
   "outputs": [],
   "source": [
    "# Find the container for what we want\n",
    "usgs_astro_products = soup.find('div', class_='collapsible results')\n",
    "\n",
    "# Get all 4 of the image pages\n",
    "hemisphere_pages = usgs_astro_products.find_all('div', class_='item')\n",
    "\n",
    "# List where everything will be stored\n",
    "hemisphere_image_urls = []\n",
    "\n",
    "# Loop through the pages\n",
    "for page in hemisphere_pages:\n",
    "    # Clear the dictionary for each iteration\n",
    "    hemisphere_dict = {}\n",
    "    \n",
    "    # Find the title and add it to the dictionary\n",
    "    title = page.find('div', class_='description').find('a').text\n",
    "    hemisphere_dict['title'] = title\n",
    "    \n",
    "    # Find the link to the detail page\n",
    "    hemisphere_link = page.find('div', class_='description').find('a')['href']\n",
    "    \n",
    "    # Visit the page and parse it\n",
    "    browser.visit(usgs_astro_url_split[0] + hemisphere_link)\n",
    "    hemisphere_html = browser.html\n",
    "    hemisphere_soup = BeautifulSoup(hemisphere_html, 'html.parser')\n",
    "    \n",
    "    # Find the link to the full image and add it to the dictionary\n",
    "    img_link = hemisphere_soup.find('div', class_='content').find('a')['href']\n",
    "    hemisphere_dict['img_url'] = img_link\n",
    "    \n",
    "    # Add the filled dictionary to the list\n",
    "    hemisphere_image_urls.append(hemisphere_dict)\n",
    "    \n",
    "    # Go a page back, ready for the next iteration\n",
    "    browser.back()\n",
    "\n",
    "# Show those URLs in the list\n",
    "hemisphere_image_urls"
   ]
  }
 ],
 "metadata": {
  "kernelspec": {
   "display_name": "Python 3",
   "language": "python",
   "name": "python3"
  },
  "language_info": {
   "codemirror_mode": {
    "name": "ipython",
    "version": 3
   },
   "file_extension": ".py",
   "mimetype": "text/x-python",
   "name": "python",
   "nbconvert_exporter": "python",
   "pygments_lexer": "ipython3",
   "version": "3.8.3"
  }
 },
 "nbformat": 4,
 "nbformat_minor": 4
}
