{
 "cells": [
  {
   "cell_type": "code",
   "execution_count": null,
   "metadata": {},
   "outputs": [],
   "source": [
    "#-----------------------------\n",
    "# Colby Alexander Hoke\n",
    "# UNC Data Analytics Bootcamp\n",
    "# August, 2020\n",
    "#-----------------------------"
   ]
  },
  {
   "cell_type": "code",
   "execution_count": null,
   "metadata": {},
   "outputs": [],
   "source": [
    "from splinter import Browser\n",
    "from splinter.exceptions import ElementDoesNotExist\n",
    "from bs4 import BeautifulSoup\n",
    "import pandas as pd"
   ]
  },
  {
   "cell_type": "code",
   "execution_count": null,
   "metadata": {},
   "outputs": [],
   "source": [
    "# Mac path\n",
    "executable_path = {'executable_path': '/usr/local/bin/chromedriver'}\n",
    "\n",
    "# Windows path\n",
    "#executable_path = {\"executable_path\": \"chromedriver.exe\"}\n",
    "\n",
    "browser = Browser('chrome', **executable_path, headless=False)"
   ]
  },
  {
   "cell_type": "code",
   "execution_count": null,
   "metadata": {},
   "outputs": [],
   "source": [
    "# Scrape the NASA Mars News Site:\n",
    "# https://mars.nasa.gov/news\n",
    "\n",
    "# Collect the latest News Title and Paragraph Text.\n",
    "# Assign the text to variables.\n",
    "\n",
    "nasa_news_url = 'https://mars.nasa.gov/news/'\n",
    "browser.visit(nasa_news_url)\n",
    "\n",
    "html = browser.html\n",
    "soup = BeautifulSoup(html, 'html.parser')\n",
    "\n",
    "article = soup.find('div', class_='list_text')\n",
    "\n",
    "news_title = article.find('a').text\n",
    "\n",
    "news_p = article.find('div', class_='article_teaser_body').text"
   ]
  },
  {
   "cell_type": "code",
   "execution_count": null,
   "metadata": {},
   "outputs": [],
   "source": [
    "print(f'News title: {news_title} \\n\\nNews Paragraph: {news_p}')"
   ]
  },
  {
   "cell_type": "markdown",
   "metadata": {},
   "source": [
    "## PL Mars Space Images - Featured Image"
   ]
  },
  {
   "cell_type": "code",
   "execution_count": null,
   "metadata": {},
   "outputs": [],
   "source": [
    "# Scrape the JPL Featured Space Image\n",
    "# https://www.jpl.nasa.gov/spaceimages/?search=&category=Mars\n",
    "#\n",
    "# Find the image url for the current Featured Mars Image\n",
    "# Assign the url string to a variable called featured_image_url.\n",
    "#\n",
    "# Make sure to find the image url to the full size .jpg image.\n",
    "# Make sure to save a complete url string for this image.\n",
    "# \n",
    "# Example:\n",
    "# featured_image_url = 'https://www.jpl.nasa.gov/spaceimages/images/largesize/PIA16225_hires.jpg'\n",
    "\n",
    "space_img_url = 'https://www.jpl.nasa.gov/spaceimages/?search=&category=Mars'\n",
    "url_split = space_img_url.split('/spaceimages',1)\n",
    "\n",
    "browser.visit(space_img_url)\n",
    "\n",
    "html = browser.html\n",
    "soup = BeautifulSoup(html, 'html.parser')\n",
    "\n",
    "img_link = soup.find('section', class_='main_feature').find('a', class_='button fancybox')['data-link']\n",
    "img_page_url = url_split[0] + img_link\n",
    "\n",
    "# Return the URL for the page that holds our image\n",
    "img_page_url"
   ]
  },
  {
   "cell_type": "code",
   "execution_count": null,
   "metadata": {},
   "outputs": [],
   "source": [
    "# Visit that page and parse the HTML\n",
    "browser.visit(img_page_url)\n",
    "html = browser.html\n",
    "soup = BeautifulSoup(html, 'html.parser')\n",
    "\n",
    "# Pull the full res image URL\n",
    "img_details = soup.find('div', id='secondary_column').find_all('div', class_='download_tiff')\n",
    "hires_image_url = img_details[1].find('a')['href']\n",
    "\n",
    "# Append to the URL\n",
    "featured_image_url = 'https:' + hires_image_url\n",
    "\n",
    "# Return the URL\n",
    "featured_image_url"
   ]
  },
  {
   "cell_type": "markdown",
   "metadata": {},
   "source": [
    "## Mars Facts\n",
    "\n",
    "\n",
    "Visit the Mars Facts webpage:\n",
    "https://space-facts.com/mars/\n",
    "    \n",
    "Use Pandas to scrape the table containing facts about the planet including Diameter, Mass, etc.\n",
    "\n",
    "\n",
    "Use Pandas to convert the data to a HTML table string."
   ]
  },
  {
   "cell_type": "code",
   "execution_count": null,
   "metadata": {},
   "outputs": [],
   "source": [
    "# WORKS!\n",
    "#--------------\n",
    "\n",
    "# Set URL to pull from\n",
    "mars_facts_url = 'https://space-facts.com/mars/'\n",
    "\n",
    "# Read and store all of the tables\n",
    "tables = pd.read_html(mars_facts_url)\n",
    "\n",
    "# Get the table we want\n",
    "mars_df = tables[0]\n",
    "\n",
    "# Give columns names and reset the index\n",
    "mars_df.columns=['Paramater','Value']\n",
    "mars_df.set_index('Paramater', inplace=True)\n",
    "\n",
    "# Convert the table to HTML and strip the new line returns\n",
    "mars_html_table = mars_df.to_html()\n",
    "mars_html_table = mars_html_table.replace('\\n', '') \n",
    "\n",
    "# Return the HTML\n",
    "mars_html_table"
   ]
  },
  {
   "cell_type": "markdown",
   "metadata": {},
   "source": [
    "## Mars Hemispheres\n",
    "\n",
    "\n",
    "Visit the USGS Astrogeology site:\n",
    "https://astrogeology.usgs.gov/search/results?q=hemisphere+enhanced&k1=target&v1=Marshere\n",
    "Obtain high resolution images for each of Mar's hemispheres.\n",
    "\n",
    "You will need to click each of the links to the hemispheres in order to find the image url to the full resolution image.\n",
    "\n",
    "Save both the image url string for the full resolution hemisphere image, and the Hemisphere title containing the hemisphere name. Use a Python dictionary to store the data using the keys img_url and title.\n",
    "\n",
    "Append the dictionary with the image url string and the hemisphere title to a list. This list will contain one dictionary for each hemisphere.\n",
    "\n",
    "Example:\n",
    "hemisphere_image_urls = [\n",
    "    {\"title\": \"Valles Marineris Hemisphere\", \"img_url\": \"...\"},\n",
    "    {\"title\": \"Cerberus Hemisphere\", \"img_url\": \"...\"},\n",
    "    {\"title\": \"Schiaparelli Hemisphere\", \"img_url\": \"...\"},\n",
    "    {\"title\": \"Syrtis Major Hemisphere\", \"img_url\": \"...\"},\n",
    "]"
   ]
  },
  {
   "cell_type": "code",
   "execution_count": null,
   "metadata": {},
   "outputs": [],
   "source": [
    "usgs_astro_url = 'https://astrogeology.usgs.gov/search/results?q=hemisphere+enhanced&k1=target&v1=Marshere'\n",
    "\n",
    "browser.visit(usgs_astro_url)\n",
    "html = browser.html\n",
    "soup = BeautifulSoup(html, 'html.parser')"
   ]
  },
  {
   "cell_type": "code",
   "execution_count": null,
   "metadata": {},
   "outputs": [],
   "source": []
  },
  {
   "cell_type": "code",
   "execution_count": null,
   "metadata": {},
   "outputs": [],
   "source": []
  },
  {
   "cell_type": "code",
   "execution_count": null,
   "metadata": {},
   "outputs": [],
   "source": []
  },
  {
   "cell_type": "markdown",
   "metadata": {},
   "source": [
    "# Use later\n",
    "category_list = []\n",
    "url_list = []\n",
    "book_url_list = []\n",
    "for category in categories:\n",
    "    title = category.text.strip()\n",
    "    category_list.append(title)\n",
    "    book_url = category.find('a')['href']\n",
    "    url_list.append(book_url)\n",
    "\n",
    "book_url_list = ['http://books.toscrape.com/' + url for url in url_list]\n",
    "\n",
    "titles_and_urls = zip(category_list, book_url_list)\n",
    "\n",
    "try:\n",
    "    for title_url in titles_and_urls:\n",
    "        browser.click_link_by_partial_text('next')\n",
    "except ElementDoesNotExist:\n",
    "    print(\"Scraping Complete\")"
   ]
  },
  {
   "cell_type": "code",
   "execution_count": null,
   "metadata": {},
   "outputs": [],
   "source": []
  }
 ],
 "metadata": {
  "kernelspec": {
   "display_name": "Python 3",
   "language": "python",
   "name": "python3"
  },
  "language_info": {
   "codemirror_mode": {
    "name": "ipython",
    "version": 3
   },
   "file_extension": ".py",
   "mimetype": "text/x-python",
   "name": "python",
   "nbconvert_exporter": "python",
   "pygments_lexer": "ipython3",
   "version": "3.8.3"
  }
 },
 "nbformat": 4,
 "nbformat_minor": 4
}
